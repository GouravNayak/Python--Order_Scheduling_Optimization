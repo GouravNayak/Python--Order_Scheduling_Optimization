{
  "nbformat": 4,
  "nbformat_minor": 0,
  "metadata": {
    "colab": {
      "name": "Order_scheduling_optimizer.ipynb",
      "provenance": [],
      "authorship_tag": "ABX9TyMXGC9WcpvnEjPpdbeq8CoV",
      "include_colab_link": true
    },
    "kernelspec": {
      "name": "python3",
      "display_name": "Python 3"
    }
  },
  "cells": [
    {
      "cell_type": "markdown",
      "metadata": {
        "id": "view-in-github",
        "colab_type": "text"
      },
      "source": [
        "<a href=\"https://colab.research.google.com/github/GouravNayak/Python--Order_Scheduling_Optimization/blob/main/Order_scheduling_optimizer.ipynb\" target=\"_parent\"><img src=\"https://colab.research.google.com/assets/colab-badge.svg\" alt=\"Open In Colab\"/></a>"
      ]
    },
    {
      "cell_type": "markdown",
      "metadata": {
        "id": "hcY7BWyl1N0G"
      },
      "source": [
        "**import libraries**"
      ]
    },
    {
      "cell_type": "code",
      "metadata": {
        "id": "NZAbVwquzzon"
      },
      "source": [
        "import pandas as pd\n",
        "import numpy as np"
      ],
      "execution_count": null,
      "outputs": []
    },
    {
      "cell_type": "markdown",
      "metadata": {
        "id": "v4mUWXFo1IgI"
      },
      "source": [
        "**Read the excel**"
      ]
    },
    {
      "cell_type": "code",
      "metadata": {
        "id": "qKNxGVyJz6Ps",
        "outputId": "65744029-0d94-49d0-9f76-93fbc17fc99c",
        "colab": {
          "base_uri": "https://localhost:8080/"
        }
      },
      "source": [
        "df = pd.read_excel(r'/content/Test_1.xlsx', index_col=0)\n",
        "print(df.head())\n",
        "sku_list = list(df.index.values)\n",
        "df_col = df.shape[1]"
      ],
      "execution_count": null,
      "outputs": [
        {
          "output_type": "stream",
          "text": [
            "   A  B  C  D\n",
            "1  1  0  1  2\n",
            "2  1  1  0  2\n",
            "3  2  0  1  0\n",
            "4  0  1  2  3\n",
            "5  3  1  0  1\n"
          ],
          "name": "stdout"
        }
      ]
    },
    {
      "cell_type": "markdown",
      "metadata": {
        "id": "WufCkg0b7fuw"
      },
      "source": [
        "**Function to check shared order**"
      ]
    },
    {
      "cell_type": "code",
      "metadata": {
        "id": "5WsuGN7o7kyr"
      },
      "source": [
        "def get_jaccard_coefficent(input_sku_1, input_sku_2):\n",
        "  # print('finding coefficent for '+ str(input_sku_1) + ', ' + str(input_sku_2))\n",
        "  data = [df.loc[input_sku_1], df.loc[input_sku_2]]\n",
        "  temp_sku = pd.concat(data, axis=1)\n",
        "  \n",
        "  jaccard_coefficent_num = 0\n",
        "  jaccard_coefficent_den = temp_sku.sum(axis=0, skipna=True).loc[input_sku_1] + temp_sku.sum(axis=0, skipna=True).loc[input_sku_2]\n",
        "  shared_order_var = 0\n",
        "  for index, row in temp_sku.iterrows():\n",
        "    num_1 = temp_sku[input_sku_1][index]\n",
        "    num_2 = temp_sku[input_sku_2][index]\n",
        "    if num_1>0 and num_2>0:\n",
        "      shared_order_var = min(num_1, num_2)\n",
        "    else:\n",
        "      shared_order_var = 0\n",
        "    jaccard_coefficent_num = jaccard_coefficent_num+shared_order_var\n",
        "  jaccard_coefficent = jaccard_coefficent_num/jaccard_coefficent_den\n",
        "  \n",
        "  return jaccard_coefficent"
      ],
      "execution_count": null,
      "outputs": []
    },
    {
      "cell_type": "markdown",
      "metadata": {
        "id": "PNDnv-Wc1E6z"
      },
      "source": [
        "**Create a numpy array**"
      ]
    },
    {
      "cell_type": "code",
      "metadata": {
        "id": "Bh1pnlSJ1EVv"
      },
      "source": [
        "result_array = np.zeros((len(sku_list),len(sku_list)),dtype=float)"
      ],
      "execution_count": null,
      "outputs": []
    },
    {
      "cell_type": "code",
      "metadata": {
        "id": "LC3zu3Mm2rS_",
        "outputId": "9e0e320b-6ab5-4af0-f9b5-ab45af2c9bc0",
        "colab": {
          "base_uri": "https://localhost:8080/"
        }
      },
      "source": [
        "row_count = 0\n",
        "for sku_row in sku_list:\n",
        "  #print('processing row: ',row_count)\n",
        "  col_count = 0\n",
        "  for sku_col in sku_list:\n",
        "    #print('processing col: ',col_count)\n",
        "    if sku_row==sku_col:\n",
        "      result_array[row_count][col_count] = 0\n",
        "    else:\n",
        "      result_array[row_count][col_count] = get_jaccard_coefficent(sku_row, sku_col)\n",
        "    col_count = col_count+1\n",
        "  row_count = row_count+1\n",
        "print(result_array)"
      ],
      "execution_count": null,
      "outputs": [
        {
          "output_type": "stream",
          "text": [
            "[[0.         0.375      0.28571429 0.3        0.22222222]\n",
            " [0.375      0.         0.14285714 0.3        0.33333333]\n",
            " [0.28571429 0.14285714 0.         0.11111111 0.25      ]\n",
            " [0.3        0.3        0.11111111 0.         0.18181818]\n",
            " [0.22222222 0.33333333 0.25       0.18181818 0.        ]]\n"
          ],
          "name": "stdout"
        }
      ]
    }
  ]
}